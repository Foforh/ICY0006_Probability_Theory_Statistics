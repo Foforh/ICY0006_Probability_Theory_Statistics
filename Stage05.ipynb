{
 "cells": [
  {
   "cell_type": "code",
   "execution_count": 1,
   "metadata": {},
   "outputs": [],
   "source": [
    "import pandas as pd\n",
    "import numpy as np\n",
    "import matplotlib.pyplot as plt\n",
    "import seaborn as sns\n",
    "from pylab import rcParams\n",
    "\n",
    "rcParams[\"figure.figsize\"] = (10, 6)\n",
    "sns.set()"
   ]
  },
  {
   "cell_type": "code",
   "execution_count": 2,
   "metadata": {},
   "outputs": [],
   "source": [
    "main_data = pd.read_csv(\"FuelConsumptionCo2.csv\")"
   ]
  },
  {
   "cell_type": "code",
   "execution_count": 3,
   "metadata": {},
   "outputs": [
    {
     "data": {
      "text/html": [
       "<div>\n",
       "<style scoped>\n",
       "    .dataframe tbody tr th:only-of-type {\n",
       "        vertical-align: middle;\n",
       "    }\n",
       "\n",
       "    .dataframe tbody tr th {\n",
       "        vertical-align: top;\n",
       "    }\n",
       "\n",
       "    .dataframe thead th {\n",
       "        text-align: right;\n",
       "    }\n",
       "</style>\n",
       "<table border=\"1\" class=\"dataframe\">\n",
       "  <thead>\n",
       "    <tr style=\"text-align: right;\">\n",
       "      <th></th>\n",
       "      <th>MODELYEAR</th>\n",
       "      <th>MAKE</th>\n",
       "      <th>MODEL</th>\n",
       "      <th>VEHICLECLASS</th>\n",
       "      <th>ENGINESIZE</th>\n",
       "      <th>CYLINDERS</th>\n",
       "      <th>TRANSMISSION</th>\n",
       "      <th>FUELTYPE</th>\n",
       "      <th>FUELCONSUMPTION_CITY</th>\n",
       "      <th>FUELCONSUMPTION_HWY</th>\n",
       "      <th>FUELCONSUMPTION_COMB</th>\n",
       "      <th>FUELCONSUMPTION_COMB_MPG</th>\n",
       "      <th>CO2EMISSIONS</th>\n",
       "    </tr>\n",
       "  </thead>\n",
       "  <tbody>\n",
       "    <tr>\n",
       "      <th>702</th>\n",
       "      <td>2014</td>\n",
       "      <td>MAZDA</td>\n",
       "      <td>MAZDA2</td>\n",
       "      <td>COMPACT</td>\n",
       "      <td>1.5</td>\n",
       "      <td>4</td>\n",
       "      <td>M5</td>\n",
       "      <td>X</td>\n",
       "      <td>8.0</td>\n",
       "      <td>6.7</td>\n",
       "      <td>7.4</td>\n",
       "      <td>38</td>\n",
       "      <td>170</td>\n",
       "    </tr>\n",
       "    <tr>\n",
       "      <th>961</th>\n",
       "      <td>2014</td>\n",
       "      <td>SUBARU</td>\n",
       "      <td>TRIBECA AWD</td>\n",
       "      <td>SUV - SMALL</td>\n",
       "      <td>3.6</td>\n",
       "      <td>6</td>\n",
       "      <td>AS5</td>\n",
       "      <td>X</td>\n",
       "      <td>14.7</td>\n",
       "      <td>11.1</td>\n",
       "      <td>13.1</td>\n",
       "      <td>22</td>\n",
       "      <td>301</td>\n",
       "    </tr>\n",
       "    <tr>\n",
       "      <th>346</th>\n",
       "      <td>2014</td>\n",
       "      <td>FORD</td>\n",
       "      <td>E150 VAN FFV</td>\n",
       "      <td>VAN - CARGO</td>\n",
       "      <td>5.4</td>\n",
       "      <td>8</td>\n",
       "      <td>A4</td>\n",
       "      <td>E</td>\n",
       "      <td>24.9</td>\n",
       "      <td>19.6</td>\n",
       "      <td>22.5</td>\n",
       "      <td>13</td>\n",
       "      <td>360</td>\n",
       "    </tr>\n",
       "    <tr>\n",
       "      <th>1007</th>\n",
       "      <td>2014</td>\n",
       "      <td>TOYOTA</td>\n",
       "      <td>TUNDRA 4WD</td>\n",
       "      <td>PICKUP TRUCK - STANDARD</td>\n",
       "      <td>5.7</td>\n",
       "      <td>8</td>\n",
       "      <td>AS6</td>\n",
       "      <td>X</td>\n",
       "      <td>18.1</td>\n",
       "      <td>13.9</td>\n",
       "      <td>16.2</td>\n",
       "      <td>17</td>\n",
       "      <td>373</td>\n",
       "    </tr>\n",
       "    <tr>\n",
       "      <th>335</th>\n",
       "      <td>2014</td>\n",
       "      <td>FIAT</td>\n",
       "      <td>500 CABRIO</td>\n",
       "      <td>MINICOMPACT</td>\n",
       "      <td>1.4</td>\n",
       "      <td>4</td>\n",
       "      <td>M5</td>\n",
       "      <td>X</td>\n",
       "      <td>7.9</td>\n",
       "      <td>6.3</td>\n",
       "      <td>7.2</td>\n",
       "      <td>39</td>\n",
       "      <td>166</td>\n",
       "    </tr>\n",
       "  </tbody>\n",
       "</table>\n",
       "</div>"
      ],
      "text/plain": [
       "      MODELYEAR    MAKE         MODEL             VEHICLECLASS  ENGINESIZE  \\\n",
       "702        2014   MAZDA        MAZDA2                  COMPACT         1.5   \n",
       "961        2014  SUBARU   TRIBECA AWD              SUV - SMALL         3.6   \n",
       "346        2014    FORD  E150 VAN FFV              VAN - CARGO         5.4   \n",
       "1007       2014  TOYOTA    TUNDRA 4WD  PICKUP TRUCK - STANDARD         5.7   \n",
       "335        2014    FIAT    500 CABRIO              MINICOMPACT         1.4   \n",
       "\n",
       "      CYLINDERS TRANSMISSION FUELTYPE  FUELCONSUMPTION_CITY  \\\n",
       "702           4           M5        X                   8.0   \n",
       "961           6          AS5        X                  14.7   \n",
       "346           8           A4        E                  24.9   \n",
       "1007          8          AS6        X                  18.1   \n",
       "335           4           M5        X                   7.9   \n",
       "\n",
       "      FUELCONSUMPTION_HWY  FUELCONSUMPTION_COMB  FUELCONSUMPTION_COMB_MPG  \\\n",
       "702                   6.7                   7.4                        38   \n",
       "961                  11.1                  13.1                        22   \n",
       "346                  19.6                  22.5                        13   \n",
       "1007                 13.9                  16.2                        17   \n",
       "335                   6.3                   7.2                        39   \n",
       "\n",
       "      CO2EMISSIONS  \n",
       "702            170  \n",
       "961            301  \n",
       "346            360  \n",
       "1007           373  \n",
       "335            166  "
      ]
     },
     "execution_count": 3,
     "metadata": {},
     "output_type": "execute_result"
    }
   ],
   "source": [
    "main_data.sample(5)"
   ]
  },
  {
   "cell_type": "markdown",
   "metadata": {},
   "source": [
    "### Step 1"
   ]
  },
  {
   "cell_type": "code",
   "execution_count": 4,
   "metadata": {},
   "outputs": [],
   "source": [
    "# let's first take important feature which are later on use to create a regression model\n",
    "# let's drop unnecessary variables and make final data frame\n",
    "final_data = main_data.drop(columns = [\"MODELYEAR\",\"MAKE\", \"FUELTYPE\",\"MODEL\", \"VEHICLECLASS\", \"TRANSMISSION\"])\n",
    "\n",
    "# let's create feature variable X and response vector y\n",
    "X = final_data.drop(columns = [\"CO2EMISSIONS\"])\n",
    "y = final_data.CO2EMISSIONS\n",
    "# let's split the data into training and testing set\n",
    "from sklearn.model_selection import train_test_split\n",
    "X_train, X_test, y_train, y_test = train_test_split(X, y, test_size = 0.2) \n",
    "# here i take 80% data as training data and 20% data as testing data"
   ]
  },
  {
   "cell_type": "markdown",
   "metadata": {},
   "source": [
    "### Step 2"
   ]
  },
  {
   "cell_type": "code",
   "execution_count": 5,
   "metadata": {
    "scrolled": true
   },
   "outputs": [
    {
     "data": {
      "text/plain": [
       "LinearRegression()"
      ]
     },
     "execution_count": 5,
     "metadata": {},
     "output_type": "execute_result"
    }
   ],
   "source": [
    "# let's train our model using linear regression\n",
    "from sklearn.linear_model import LinearRegression\n",
    "\n",
    "model = LinearRegression()\n",
    "\n",
    "model.fit(X_train, y_train)"
   ]
  },
  {
   "cell_type": "markdown",
   "metadata": {},
   "source": [
    "### Step 3"
   ]
  },
  {
   "cell_type": "code",
   "execution_count": 6,
   "metadata": {},
   "outputs": [],
   "source": [
    "# model testing time\n",
    "final_predicted = model.predict(X_test)\n",
    "# here i'm going to test model and check accuracy using MAE, RMSE, MAPE\n",
    "\n",
    "from sklearn.metrics import mean_absolute_error, mean_squared_error"
   ]
  },
  {
   "cell_type": "markdown",
   "metadata": {},
   "source": [
    "###### Mean Absolute Error (MAE)\n",
    "- MAE is the average value of error in a set of predicted values, without considering direction. It ranges from 0 to inf., and lower value means better model. It is the simplest to understand regression error metric\n",
    "\n",
    "- MAE tells us how big of an error we can expect from the forecast on average."
   ]
  },
  {
   "cell_type": "code",
   "execution_count": 7,
   "metadata": {},
   "outputs": [
    {
     "name": "stdout",
     "output_type": "stream",
     "text": [
      "MAE:  15.197303826008504\n"
     ]
    }
   ],
   "source": [
    "print(\"MAE: \", mean_absolute_error(final_predicted, y_test))"
   ]
  },
  {
   "cell_type": "markdown",
   "metadata": {},
   "source": [
    "##### Root Mean Square Error (RMSE)\n",
    "- RMSE is the square root of average value of squared error in a set of predicted values, without considering direction. It ranges from 0 to inf., lower means better model and it is always greater in magnitude than MAE. It is most widely used regression error metric and is mathematically\n",
    "\n",
    "- RMSE can be interpreted as the standard deviation of the unexplained variance."
   ]
  },
  {
   "cell_type": "code",
   "execution_count": 8,
   "metadata": {
    "scrolled": true
   },
   "outputs": [
    {
     "name": "stdout",
     "output_type": "stream",
     "text": [
      "RMSE: 22.43060430170815\n"
     ]
    }
   ],
   "source": [
    "print(\"RMSE:\", np.sqrt(mean_squared_error(final_predicted, y_test)))"
   ]
  },
  {
   "cell_type": "markdown",
   "metadata": {},
   "source": [
    "##### Mean Absolute Percentage Error (MAPE)\n",
    "- MAPE is the average percentage error in a set of predicted values, without considering direction. It ranges from 0 to inf., and lower value means better model.\n",
    "\n",
    "- It doesn’t depend on the units of data. It is expressed as percentage."
   ]
  },
  {
   "cell_type": "code",
   "execution_count": 9,
   "metadata": {
    "scrolled": true
   },
   "outputs": [
    {
     "name": "stdout",
     "output_type": "stream",
     "text": [
      "MAPE: 5.578269032477049\n"
     ]
    }
   ],
   "source": [
    "print(\"MAPE:\", np.mean(np.abs((y_test - final_predicted) / y_test)) * 100)"
   ]
  },
  {
   "cell_type": "code",
   "execution_count": 10,
   "metadata": {},
   "outputs": [
    {
     "data": {
      "image/png": "[encoded data removed]",
      "text/plain": [
       "<Figure size 720x432 with 1 Axes>"
      ]
     },
     "metadata": {},
     "output_type": "display_data"
    }
   ],
   "source": [
    "# let's plot predicted value and real value\n",
    "\n",
    "sns.lineplot(y_test, final_predicted, color = \"b\", label = \"actual\")\n",
    "sns.scatterplot(final_predicted, y_test, color = \"g\", label = \"predicted\")\n",
    "plt.xlabel(\"CO2 Emission\")\n",
    "plt.ylabel(\"Scale\")\n",
    "plt.title(\"Actual vs Predicted\")\n",
    "plt.show()"
   ]
  },
  {
   "cell_type": "markdown",
   "metadata": {},
   "source": [
    "### Observation of Stage 5:\n",
    "- Here i selected those features which are highly related to target variable and effect to the target variable, so basically here i choose those features which i found highy co related in stage 4\n",
    "- Then i have split it into train and test set and here i split 20% for testing and 80% for training data\n",
    "- Then i create a object of LinearRegression and train a model using training data set\n",
    "- Then i predicted value using test data set\n",
    "- Then i evaluted the model using some of evalution technique which are Mean Absolute Error, Root Mean Square Error and Mean Absolute Percentage Error.\n",
    "- So here as the error rate is minimum our model will performing well\n",
    "- Then i visualize the actual value and predicted valur of Co2 Emission "
   ]
  }
 ],
 "metadata": {
  "kernelspec": {
   "display_name": "Python 3",
   "language": "python",
   "name": "python3"
  },
  "language_info": {
   "codemirror_mode": {
    "name": "ipython",
    "version": 3
   },
   "file_extension": ".py",
   "mimetype": "text/x-python",
   "name": "python",
   "nbconvert_exporter": "python",
   "pygments_lexer": "ipython3",
   "version": "3.7.4"
  }
 },
 "nbformat": 4,
 "nbformat_minor": 4
}
